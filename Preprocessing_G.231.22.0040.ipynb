{
  "nbformat": 4,
  "nbformat_minor": 0,
  "metadata": {
    "colab": {
      "provenance": [],
      "authorship_tag": "ABX9TyPg2fmHiS81YKnSYX6Na+5X",
      "include_colab_link": true
    },
    "kernelspec": {
      "name": "python3",
      "display_name": "Python 3"
    },
    "language_info": {
      "name": "python"
    }
  },
  "cells": [
    {
      "cell_type": "markdown",
      "metadata": {
        "id": "view-in-github",
        "colab_type": "text"
      },
      "source": [
        "<a href=\"https://colab.research.google.com/github/Tara0599/Data-Mining/blob/main/Preprocessing_G.231.22.0040.ipynb\" target=\"_parent\"><img src=\"https://colab.research.google.com/assets/colab-badge.svg\" alt=\"Open In Colab\"/></a>"
      ]
    },
    {
      "cell_type": "code",
      "execution_count": 1,
      "metadata": {
        "id": "Yt8M2x8Zaq-5"
      },
      "outputs": [],
      "source": [
        "import numpy as np\n",
        "from sklearn import preprocessing"
      ]
    },
    {
      "cell_type": "code",
      "source": [
        "input_data = np.array([[5.1, -2.9, 3.3],\n",
        "                       [-1.2, 7.8, -6.1],\n",
        "                       [3.9, 0.4, 2.1],\n",
        "                       [7.3, -9.9, -4.5]])"
      ],
      "metadata": {
        "id": "6f79KY-_bEmC"
      },
      "execution_count": 2,
      "outputs": []
    },
    {
      "cell_type": "code",
      "source": [
        "# Binarize data (Binarisasi Data--> mengubah nilainya menjadi 0 dan 1)\n",
        "data_binarized = preprocessing .Binarizer(threshold=2.1).transform(input_data)\n",
        "print(\"\\nBinarized data:\\n\", data_binarized)"
      ],
      "metadata": {
        "colab": {
          "base_uri": "https://localhost:8080/"
        },
        "id": "fK_-mau1bjEg",
        "outputId": "29f7d74e-7e98-4311-bd9d-c67cedbd8632"
      },
      "execution_count": 3,
      "outputs": [
        {
          "output_type": "stream",
          "name": "stdout",
          "text": [
            "\n",
            "Binarized data:\n",
            " [[1. 0. 1.]\n",
            " [0. 1. 0.]\n",
            " [1. 0. 0.]\n",
            " [1. 0. 0.]]\n"
          ]
        }
      ]
    },
    {
      "cell_type": "code",
      "source": [
        "# Print mean and standard deviation (Cetak rata-rata dan standar devisiasi)\n",
        "print(\"\\nBEFORE:\")\n",
        "print(\"Mean =\", input_data.mean(axis=0))\n",
        "print(\"Std deviation =\", input_data.std(axis=0))"
      ],
      "metadata": {
        "colab": {
          "base_uri": "https://localhost:8080/"
        },
        "id": "Zd2HyKq8cUNK",
        "outputId": "d2732c4e-65be-4fd8-f717-54d64343eb21"
      },
      "execution_count": 4,
      "outputs": [
        {
          "output_type": "stream",
          "name": "stdout",
          "text": [
            "\n",
            "BEFORE:\n",
            "Mean = [ 3.775 -1.15  -1.3  ]\n",
            "Std deviation = [3.12039661 6.36651396 4.0620192 ]\n"
          ]
        }
      ]
    },
    {
      "cell_type": "code",
      "source": [
        "# Menghapus rata-rata\n",
        "data_scaled = preprocessing.scale(input_data)\n",
        "print(\"\\nAFTER:\")\n",
        "print(\"Mean =\", data_scaled.mean(axis=0))\n",
        "print(\"Std deviation =\", data_scaled.std(axis=0))"
      ],
      "metadata": {
        "colab": {
          "base_uri": "https://localhost:8080/"
        },
        "id": "FQnSTG2mdHbB",
        "outputId": "aac996b4-37e5-4dc5-87f5-59513de908ea"
      },
      "execution_count": 5,
      "outputs": [
        {
          "output_type": "stream",
          "name": "stdout",
          "text": [
            "\n",
            "AFTER:\n",
            "Mean = [1.11022302e-16 0.00000000e+00 2.77555756e-17]\n",
            "Std deviation = [1. 1. 1.]\n"
          ]
        }
      ]
    },
    {
      "cell_type": "code",
      "source": [
        "# Min max scaling (menentukan Nilai Max dan Min)\n",
        "data_scaler_minmax = preprocessing.MinMaxScaler(feature_range=(0, 1))\n",
        "data_scaled_minmax = data_scaler_minmax.fit_transform(input_data)\n",
        "print(\"\\nMin max scaled data:\\n\", data_scaled_minmax)"
      ],
      "metadata": {
        "colab": {
          "base_uri": "https://localhost:8080/"
        },
        "id": "KaUjEeQpgcYS",
        "outputId": "f7e95df5-4def-4c0f-fbf9-1a249c7fdb37"
      },
      "execution_count": 6,
      "outputs": [
        {
          "output_type": "stream",
          "name": "stdout",
          "text": [
            "\n",
            "Min max scaled data:\n",
            " [[0.74117647 0.39548023 1.        ]\n",
            " [0.         1.         0.        ]\n",
            " [0.6        0.5819209  0.87234043]\n",
            " [1.         0.         0.17021277]]\n"
          ]
        }
      ]
    }
  ]
}